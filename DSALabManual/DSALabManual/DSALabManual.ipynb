{
 "cells": [
  {
   "cell_type": "code",
   "execution_count": null,
   "id": "69e70dcb-5311-4289-ad5c-7bcbe57f08ef",
   "metadata": {},
   "outputs": [],
   "source": [
    "1"
   ]
  },
  {
   "cell_type": "code",
   "execution_count": 6,
   "id": "b3e6edfa-4906-4ed9-b6fa-3bb4d685b73b",
   "metadata": {},
   "outputs": [
    {
     "name": "stdout",
     "output_type": "stream",
     "text": [
      "Original Array: [10 20 30 40 50]\n",
      "Sum of array: 150\n",
      "Mean of array: 30.0\n",
      "Max value: 50\n",
      "Min value: 10\n",
      "Sorted Array: [10 20 30 40 50]\n",
      "Square of each element: [ 100  400  900 1600 2500]\n"
     ]
    }
   ],
   "source": [
    "import numpy as np\n",
    "\n",
    "# Creating an array\n",
    "arr = np.array([10, 20, 30, 40, 50])\n",
    "\n",
    "# Various operations\n",
    "print(\"Original Array:\", arr)\n",
    "print(\"Sum of array:\", np.sum(arr))\n",
    "print(\"Mean of array:\", np.mean(arr))\n",
    "print(\"Max value:\", np.max(arr))\n",
    "print(\"Min value:\", np.min(arr))\n",
    "print(\"Sorted Array:\", np.sort(arr))\n",
    "print(\"Square of each element:\", np.square(arr))\n"
   ]
  },
  {
   "cell_type": "code",
   "execution_count": null,
   "id": "ad0e4457-0263-4a79-b193-8ba3d58a1fa9",
   "metadata": {},
   "outputs": [],
   "source": [
    "2"
   ]
  },
  {
   "cell_type": "code",
   "execution_count": 3,
   "id": "8c4b0143-a3b6-4176-88cc-fe631d9ba82c",
   "metadata": {},
   "outputs": [
    {
     "name": "stdout",
     "output_type": "stream",
     "text": [
      "Original Matrix:\n",
      "[5, 0, 0]\n",
      "[0, 8, 0]\n",
      "[0, 0, 3]\n",
      "Sparse Matrix Representation:\n",
      "[(0, 0, 5), (1, 1, 8), (2, 2, 3)]\n"
     ]
    }
   ],
   "source": [
    "import numpy as np\n",
    "\n",
    "def sparse_matrix(matrix):\n",
    "    sparse = []\n",
    "    for i in range(len(matrix)):\n",
    "        for j in range(len(matrix[0])):\n",
    "            if matrix[i][j] != 0:\n",
    "                sparse.append((i, j, matrix[i][j]))\n",
    "    return sparse\n",
    "\n",
    "# Input Matrix\n",
    "matrix = [\n",
    "    [5, 0, 0],\n",
    "    [0, 8, 0],\n",
    "    [0, 0, 3]\n",
    "]\n",
    "\n",
    "print(\"Original Matrix:\")\n",
    "for row in matrix:\n",
    "    print(row)\n",
    "\n",
    "print(\"Sparse Matrix Representation:\")\n",
    "print(sparse_matrix(matrix))\n"
   ]
  },
  {
   "cell_type": "code",
   "execution_count": null,
   "id": "7d308fa1-a009-4ca9-aee8-9d762c9c9ccb",
   "metadata": {},
   "outputs": [],
   "source": [
    "3"
   ]
  },
  {
   "cell_type": "code",
   "execution_count": 9,
   "id": "25ca5ac8-4c35-4b65-ad90-ad84bbfdb08b",
   "metadata": {},
   "outputs": [
    {
     "name": "stdout",
     "output_type": "stream",
     "text": [
      "Original String Array: hello\n",
      "Reversed String: olleh\n",
      "After Adding a Character: olleh!\n",
      "After Removing Last Character: olleh\n"
     ]
    }
   ],
   "source": [
    "from array import array\n",
    "\n",
    "def string_manipulations(s):\n",
    "    arr = array('u', s)  # Unicode array\n",
    "    print(\"Original String Array:\", \"\".join(arr))\n",
    "\n",
    "    # Reversing the string\n",
    "    arr.reverse()\n",
    "    print(\"Reversed String:\", \"\".join(arr))\n",
    "\n",
    "    # Adding a character\n",
    "    arr.append('!')\n",
    "    print(\"After Adding a Character:\", \"\".join(arr))\n",
    "\n",
    "    # Removing a character\n",
    "    arr.pop()\n",
    "    print(\"After Removing Last Character:\", \"\".join(arr))\n",
    "\n",
    "string_manipulations(\"hello\")\n"
   ]
  },
  {
   "cell_type": "code",
   "execution_count": null,
   "id": "6d975354-23c0-4144-9931-a53f8480dabd",
   "metadata": {},
   "outputs": [],
   "source": [
    "4"
   ]
  },
  {
   "cell_type": "code",
   "execution_count": 18,
   "id": "f79d02fd-4ae0-47b9-bed0-980965bd090c",
   "metadata": {},
   "outputs": [
    {
     "name": "stdout",
     "output_type": "stream",
     "text": [
      "\n",
      "1. Create 2. Insert 3. Delete 4. Search 5. Display 6. Exit\n"
     ]
    },
    {
     "name": "stdin",
     "output_type": "stream",
     "text": [
      "Enter your choice:  1\n",
      "Enter data:  1\n"
     ]
    },
    {
     "name": "stdout",
     "output_type": "stream",
     "text": [
      "\n",
      "1. Create 2. Insert 3. Delete 4. Search 5. Display 6. Exit\n"
     ]
    },
    {
     "name": "stdin",
     "output_type": "stream",
     "text": [
      "Enter your choice:  2\n",
      "Enter data:  2\n"
     ]
    },
    {
     "name": "stdout",
     "output_type": "stream",
     "text": [
      "\n",
      "1. Create 2. Insert 3. Delete 4. Search 5. Display 6. Exit\n"
     ]
    },
    {
     "name": "stdin",
     "output_type": "stream",
     "text": [
      "Enter your choice:  5\n"
     ]
    },
    {
     "name": "stdout",
     "output_type": "stream",
     "text": [
      "1 -> 2 -> None\n",
      "\n",
      "1. Create 2. Insert 3. Delete 4. Search 5. Display 6. Exit\n"
     ]
    },
    {
     "name": "stdin",
     "output_type": "stream",
     "text": [
      "Enter your choice:  3\n",
      "Enter element to delete:  1\n"
     ]
    },
    {
     "name": "stdout",
     "output_type": "stream",
     "text": [
      "\n",
      "1. Create 2. Insert 3. Delete 4. Search 5. Display 6. Exit\n"
     ]
    },
    {
     "name": "stdin",
     "output_type": "stream",
     "text": [
      "Enter your choice:  5\n"
     ]
    },
    {
     "name": "stdout",
     "output_type": "stream",
     "text": [
      "2 -> None\n",
      "\n",
      "1. Create 2. Insert 3. Delete 4. Search 5. Display 6. Exit\n"
     ]
    },
    {
     "name": "stdin",
     "output_type": "stream",
     "text": [
      "Enter your choice:  6\n"
     ]
    }
   ],
   "source": [
    "class Node:\n",
    "    def __init__(self, data):\n",
    "        self.data = data\n",
    "        self.next = None\n",
    "\n",
    "class SinglyLinkedList:\n",
    "    def __init__(self):\n",
    "        self.head = None\n",
    "\n",
    "    def create(self, data):\n",
    "        self.head = Node(data)\n",
    "\n",
    "    def insert(self, data):\n",
    "        new_node = Node(data)\n",
    "        if not self.head:\n",
    "            self.head = new_node\n",
    "        else:\n",
    "            current = self.head\n",
    "            while current.next:\n",
    "                current = current.next\n",
    "            current.next = new_node\n",
    "\n",
    "    def delete(self, key):\n",
    "        current = self.head\n",
    "        if current and current.data == key:\n",
    "            self.head = current.next\n",
    "            return\n",
    "        while current.next and current.next.data != key:\n",
    "            current = current.next\n",
    "        if current.next:\n",
    "            current.next = current.next.next\n",
    "\n",
    "    def search(self, key):\n",
    "        current = self.head\n",
    "        while current:\n",
    "            if current.data == key:\n",
    "                return True\n",
    "            current = current.next\n",
    "        return False\n",
    "\n",
    "    def display(self):\n",
    "        current = self.head\n",
    "        while current:\n",
    "            print(current.data, end=\" -> \")\n",
    "            current = current.next\n",
    "        print(\"None\")\n",
    "\n",
    "# Menu Driven Program\n",
    "sll = SinglyLinkedList()\n",
    "while True:\n",
    "    print(\"\\n1. Create 2. Insert 3. Delete 4. Search 5. Display 6. Exit\")\n",
    "    choice = int(input(\"Enter your choice: \"))\n",
    "    if choice == 1:\n",
    "        data = int(input(\"Enter data: \"))\n",
    "        sll.create(data)\n",
    "    elif choice == 2:\n",
    "        data = int(input(\"Enter data: \"))\n",
    "        sll.insert(data)\n",
    "    elif choice == 3:\n",
    "        key = int(input(\"Enter element to delete: \"))\n",
    "        sll.delete(key)\n",
    "    elif choice == 4:\n",
    "        key = int(input(\"Enter element to search: \"))\n",
    "        print(\"Found\" if sll.search(key) else \"Not Found\")\n",
    "    elif choice == 5:\n",
    "        sll.display()\n",
    "    elif choice == 6:\n",
    "        break\n"
   ]
  },
  {
   "cell_type": "code",
   "execution_count": null,
   "id": "4d8b8db6-c9c9-45da-b721-7d88662aaabd",
   "metadata": {},
   "outputs": [],
   "source": [
    "5"
   ]
  },
  {
   "cell_type": "code",
   "execution_count": 23,
   "id": "2d04fece-f411-4fa6-bf79-a20c13700706",
   "metadata": {},
   "outputs": [
    {
     "name": "stdout",
     "output_type": "stream",
     "text": [
      "\n",
      "1. Insert 2. Delete 3. Display 4. Exit\n"
     ]
    },
    {
     "name": "stdin",
     "output_type": "stream",
     "text": [
      "Enter your choice:  1\n",
      "Enter data:  10\n"
     ]
    },
    {
     "name": "stdout",
     "output_type": "stream",
     "text": [
      "\n",
      "1. Insert 2. Delete 3. Display 4. Exit\n"
     ]
    },
    {
     "name": "stdin",
     "output_type": "stream",
     "text": [
      "Enter your choice:  1\n",
      "Enter data:  20\n"
     ]
    },
    {
     "name": "stdout",
     "output_type": "stream",
     "text": [
      "\n",
      "1. Insert 2. Delete 3. Display 4. Exit\n"
     ]
    },
    {
     "name": "stdin",
     "output_type": "stream",
     "text": [
      "Enter your choice:  3\n"
     ]
    },
    {
     "name": "stdout",
     "output_type": "stream",
     "text": [
      "10 <-> 20 <-> None\n",
      "\n",
      "1. Insert 2. Delete 3. Display 4. Exit\n"
     ]
    },
    {
     "name": "stdin",
     "output_type": "stream",
     "text": [
      "Enter your choice:  2\n",
      "Enter element to delete:  10\n"
     ]
    },
    {
     "name": "stdout",
     "output_type": "stream",
     "text": [
      "\n",
      "1. Insert 2. Delete 3. Display 4. Exit\n"
     ]
    },
    {
     "name": "stdin",
     "output_type": "stream",
     "text": [
      "Enter your choice:  3\n"
     ]
    },
    {
     "name": "stdout",
     "output_type": "stream",
     "text": [
      "20 <-> None\n",
      "\n",
      "1. Insert 2. Delete 3. Display 4. Exit\n"
     ]
    },
    {
     "name": "stdin",
     "output_type": "stream",
     "text": [
      "Enter your choice:  4\n"
     ]
    }
   ],
   "source": [
    "class Node:\n",
    "    def __init__(self, data):\n",
    "        self.data = data\n",
    "        self.next = None\n",
    "        self.prev = None\n",
    "\n",
    "class DoublyLinkedList:\n",
    "    def __init__(self):\n",
    "        self.head = None\n",
    "\n",
    "    def insert(self, data):\n",
    "        new_node = Node(data)\n",
    "        if not self.head:\n",
    "            self.head = new_node\n",
    "        else:\n",
    "            current = self.head\n",
    "            while current.next:\n",
    "                current = current.next\n",
    "            current.next = new_node\n",
    "            new_node.prev = current\n",
    "\n",
    "    def delete(self, key):\n",
    "        current = self.head\n",
    "        while current:\n",
    "            if current.data == key:\n",
    "                if current.prev:\n",
    "                    current.prev.next = current.next\n",
    "                if current.next:\n",
    "                    current.next.prev = current.prev\n",
    "                if current == self.head:\n",
    "                    self.head = current.next\n",
    "                return\n",
    "            current = current.next\n",
    "\n",
    "    def display(self):\n",
    "        current = self.head\n",
    "        while current:\n",
    "            print(current.data, end=\" <-> \")\n",
    "            current = current.next\n",
    "        print(\"None\")\n",
    "\n",
    "# Menu Driven Program\n",
    "dll = DoublyLinkedList()\n",
    "while True:\n",
    "    print(\"\\n1. Insert 2. Delete 3. Display 4. Exit\")\n",
    "    choice = int(input(\"Enter your choice: \"))\n",
    "    if choice == 1:\n",
    "        data = int(input(\"Enter data: \"))\n",
    "        dll.insert(data)\n",
    "    elif choice == 2:\n",
    "        key = int(input(\"Enter element to delete: \"))\n",
    "        dll.delete(key)\n",
    "    elif choice == 3:\n",
    "        dll.display()\n",
    "    elif choice == 4:\n",
    "        break\n"
   ]
  },
  {
   "cell_type": "code",
   "execution_count": null,
   "id": "7f695afc-e8be-4d5c-a767-ccad97e27586",
   "metadata": {},
   "outputs": [],
   "source": [
    "6"
   ]
  },
  {
   "cell_type": "code",
   "execution_count": 30,
   "id": "4d2a1c04-a956-47f8-8379-b610b5f7f766",
   "metadata": {},
   "outputs": [
    {
     "name": "stdout",
     "output_type": "stream",
     "text": [
      "\n",
      "1. Insert 2. Display 3. Exit\n"
     ]
    },
    {
     "name": "stdin",
     "output_type": "stream",
     "text": [
      "Enter your choice:  1\n",
      "Enter data:  10\n"
     ]
    },
    {
     "name": "stdout",
     "output_type": "stream",
     "text": [
      "\n",
      "1. Insert 2. Display 3. Exit\n"
     ]
    },
    {
     "name": "stdin",
     "output_type": "stream",
     "text": [
      "Enter your choice:  1\n",
      "Enter data:  20\n"
     ]
    },
    {
     "name": "stdout",
     "output_type": "stream",
     "text": [
      "\n",
      "1. Insert 2. Display 3. Exit\n"
     ]
    },
    {
     "name": "stdin",
     "output_type": "stream",
     "text": [
      "Enter your choice:  1\n",
      "Enter data:  30\n"
     ]
    },
    {
     "name": "stdout",
     "output_type": "stream",
     "text": [
      "\n",
      "1. Insert 2. Display 3. Exit\n"
     ]
    },
    {
     "name": "stdin",
     "output_type": "stream",
     "text": [
      "Enter your choice:  2\n"
     ]
    },
    {
     "name": "stdout",
     "output_type": "stream",
     "text": [
      "10 -> 20 -> 30 -> HEAD\n",
      "\n",
      "1. Insert 2. Display 3. Exit\n"
     ]
    },
    {
     "name": "stdin",
     "output_type": "stream",
     "text": [
      "Enter your choice:  3\n"
     ]
    }
   ],
   "source": [
    "class Node:\n",
    "    def __init__(self, data):\n",
    "        self.data = data\n",
    "        self.next = None\n",
    "\n",
    "class CircularLinkedList:\n",
    "    def __init__(self):\n",
    "        self.head = None\n",
    "\n",
    "    def insert(self, data):\n",
    "        new_node = Node(data)\n",
    "        if not self.head:\n",
    "            self.head = new_node\n",
    "            new_node.next = self.head\n",
    "        else:\n",
    "            temp = self.head\n",
    "            while temp.next != self.head:\n",
    "                temp = temp.next\n",
    "            temp.next = new_node\n",
    "            new_node.next = self.head\n",
    "\n",
    "    def display(self):\n",
    "        if not self.head:\n",
    "            print(\"List is empty\")\n",
    "            return\n",
    "        temp = self.head\n",
    "        while True:\n",
    "            print(temp.data, end=\" -> \")\n",
    "            temp = temp.next\n",
    "            if temp == self.head:\n",
    "                break\n",
    "        print(\"HEAD\")\n",
    "\n",
    "# Menu Driven Program\n",
    "cll = CircularLinkedList()\n",
    "while True:\n",
    "    print(\"\\n1. Insert 2. Display 3. Exit\")\n",
    "    choice = int(input(\"Enter your choice: \"))\n",
    "    if choice == 1:\n",
    "        data = int(input(\"Enter data: \"))\n",
    "        cll.insert(data)\n",
    "    elif choice == 2:\n",
    "        cll.display()\n",
    "    elif choice == 3:\n",
    "        break\n"
   ]
  },
  {
   "cell_type": "code",
   "execution_count": null,
   "id": "50e509c7-75a4-4a82-b854-fa042abe7442",
   "metadata": {},
   "outputs": [],
   "source": [
    "7 i)"
   ]
  },
  {
   "cell_type": "code",
   "execution_count": 33,
   "id": "7ab794df-509b-4869-ad04-3bccf5bf24d6",
   "metadata": {},
   "outputs": [
    {
     "name": "stdout",
     "output_type": "stream",
     "text": [
      "\n",
      "1. Push 2. Pop 3. Display 4. Exit\n"
     ]
    },
    {
     "name": "stdin",
     "output_type": "stream",
     "text": [
      "Enter your choice:  1\n",
      "Enter data:  10\n"
     ]
    },
    {
     "name": "stdout",
     "output_type": "stream",
     "text": [
      "10 pushed into stack\n",
      "\n",
      "1. Push 2. Pop 3. Display 4. Exit\n"
     ]
    },
    {
     "name": "stdin",
     "output_type": "stream",
     "text": [
      "Enter your choice:  1\n",
      "Enter data:  20\n"
     ]
    },
    {
     "name": "stdout",
     "output_type": "stream",
     "text": [
      "20 pushed into stack\n",
      "\n",
      "1. Push 2. Pop 3. Display 4. Exit\n"
     ]
    },
    {
     "name": "stdin",
     "output_type": "stream",
     "text": [
      "Enter your choice:  1\n",
      "Enter data:  30\n"
     ]
    },
    {
     "name": "stdout",
     "output_type": "stream",
     "text": [
      "30 pushed into stack\n",
      "\n",
      "1. Push 2. Pop 3. Display 4. Exit\n"
     ]
    },
    {
     "name": "stdin",
     "output_type": "stream",
     "text": [
      "Enter your choice:  3\n"
     ]
    },
    {
     "name": "stdout",
     "output_type": "stream",
     "text": [
      "Stack Elements: [10, 20, 30]\n",
      "\n",
      "1. Push 2. Pop 3. Display 4. Exit\n"
     ]
    },
    {
     "name": "stdin",
     "output_type": "stream",
     "text": [
      "Enter your choice:  2\n"
     ]
    },
    {
     "name": "stdout",
     "output_type": "stream",
     "text": [
      "Popped Element: 30\n",
      "\n",
      "1. Push 2. Pop 3. Display 4. Exit\n"
     ]
    },
    {
     "name": "stdin",
     "output_type": "stream",
     "text": [
      "Enter your choice:  3\n"
     ]
    },
    {
     "name": "stdout",
     "output_type": "stream",
     "text": [
      "Stack Elements: [10, 20]\n",
      "\n",
      "1. Push 2. Pop 3. Display 4. Exit\n"
     ]
    },
    {
     "name": "stdin",
     "output_type": "stream",
     "text": [
      "Enter your choice:  4\n"
     ]
    }
   ],
   "source": [
    "class StackArray:\n",
    "    def __init__(self):\n",
    "        self.stack = []\n",
    "\n",
    "    def push(self, data):\n",
    "        self.stack.append(data)\n",
    "        print(f\"{data} pushed into stack\")\n",
    "\n",
    "    def pop(self):\n",
    "        if not self.stack:\n",
    "            print(\"Stack Underflow\")\n",
    "        else:\n",
    "            print(f\"Popped Element: {self.stack.pop()}\")\n",
    "\n",
    "    def display(self):\n",
    "        if not self.stack:\n",
    "            print(\"Stack is empty\")\n",
    "        else:\n",
    "            print(\"Stack Elements:\", self.stack)\n",
    "\n",
    "# Menu Driven Program\n",
    "stack = StackArray()\n",
    "while True:\n",
    "    print(\"\\n1. Push 2. Pop 3. Display 4. Exit\")\n",
    "    choice = int(input(\"Enter your choice: \"))\n",
    "    if choice == 1:\n",
    "        data = int(input(\"Enter data: \"))\n",
    "        stack.push(data)\n",
    "    elif choice == 2:\n",
    "        stack.pop()\n",
    "    elif choice == 3:\n",
    "        stack.display()\n",
    "    elif choice == 4:\n",
    "        break\n"
   ]
  },
  {
   "cell_type": "code",
   "execution_count": null,
   "id": "c8420060-aa38-495e-a3a5-57c6e07669c6",
   "metadata": {},
   "outputs": [],
   "source": [
    "7 ii)"
   ]
  },
  {
   "cell_type": "code",
   "execution_count": 36,
   "id": "048c9b13-b352-4b31-b133-fcd263faa3f1",
   "metadata": {},
   "outputs": [
    {
     "name": "stdout",
     "output_type": "stream",
     "text": [
      "\n",
      "1. Push 2. Pop 3. Display 4. Exit\n"
     ]
    },
    {
     "name": "stdin",
     "output_type": "stream",
     "text": [
      "Enter your choice:  1\n",
      "Enter data:  10\n"
     ]
    },
    {
     "name": "stdout",
     "output_type": "stream",
     "text": [
      "10 pushed into stack\n",
      "\n",
      "1. Push 2. Pop 3. Display 4. Exit\n"
     ]
    },
    {
     "name": "stdin",
     "output_type": "stream",
     "text": [
      "Enter your choice:  1\n",
      "Enter data:  20\n"
     ]
    },
    {
     "name": "stdout",
     "output_type": "stream",
     "text": [
      "20 pushed into stack\n",
      "\n",
      "1. Push 2. Pop 3. Display 4. Exit\n"
     ]
    },
    {
     "name": "stdin",
     "output_type": "stream",
     "text": [
      "Enter your choice:  1\n",
      "Enter data:  30\n"
     ]
    },
    {
     "name": "stdout",
     "output_type": "stream",
     "text": [
      "30 pushed into stack\n",
      "\n",
      "1. Push 2. Pop 3. Display 4. Exit\n"
     ]
    },
    {
     "name": "stdin",
     "output_type": "stream",
     "text": [
      "Enter your choice:  3\n"
     ]
    },
    {
     "name": "stdout",
     "output_type": "stream",
     "text": [
      "30 -> 20 -> 10 -> None\n",
      "\n",
      "1. Push 2. Pop 3. Display 4. Exit\n"
     ]
    },
    {
     "name": "stdin",
     "output_type": "stream",
     "text": [
      "Enter your choice:  2\n"
     ]
    },
    {
     "name": "stdout",
     "output_type": "stream",
     "text": [
      "Popped Element: 30\n",
      "\n",
      "1. Push 2. Pop 3. Display 4. Exit\n"
     ]
    },
    {
     "name": "stdin",
     "output_type": "stream",
     "text": [
      "Enter your choice:  4\n"
     ]
    }
   ],
   "source": [
    "class Node:\n",
    "    def __init__(self, data):\n",
    "        self.data = data\n",
    "        self.next = None\n",
    "\n",
    "class StackLinkedList:\n",
    "    def __init__(self):\n",
    "        self.top = None\n",
    "\n",
    "    def push(self, data):\n",
    "        new_node = Node(data)\n",
    "        new_node.next = self.top\n",
    "        self.top = new_node\n",
    "        print(f\"{data} pushed into stack\")\n",
    "\n",
    "    def pop(self):\n",
    "        if not self.top:\n",
    "            print(\"Stack Underflow\")\n",
    "        else:\n",
    "            print(f\"Popped Element: {self.top.data}\")\n",
    "            self.top = self.top.next\n",
    "\n",
    "    def display(self):\n",
    "        if not self.top:\n",
    "            print(\"Stack is empty\")\n",
    "        else:\n",
    "            temp = self.top\n",
    "            while temp:\n",
    "                print(temp.data, end=\" -> \")\n",
    "                temp = temp.next\n",
    "            print(\"None\")\n",
    "\n",
    "# Menu Driven Program\n",
    "stack = StackLinkedList()\n",
    "while True:\n",
    "    print(\"\\n1. Push 2. Pop 3. Display 4. Exit\")\n",
    "    choice = int(input(\"Enter your choice: \"))\n",
    "    if choice == 1:\n",
    "        data = int(input(\"Enter data: \"))\n",
    "        stack.push(data)\n",
    "    elif choice == 2:\n",
    "        stack.pop()\n",
    "    elif choice == 3:\n",
    "        stack.display()\n",
    "    elif choice == 4:\n",
    "        break\n"
   ]
  },
  {
   "cell_type": "code",
   "execution_count": null,
   "id": "f20a63d3-9de6-40a7-a47d-f14e113612e4",
   "metadata": {},
   "outputs": [],
   "source": [
    "8 i)"
   ]
  },
  {
   "cell_type": "code",
   "execution_count": 39,
   "id": "1e1ad8d8-c6b1-4bd5-a601-9dded37b4ca9",
   "metadata": {},
   "outputs": [
    {
     "name": "stdout",
     "output_type": "stream",
     "text": [
      "\n",
      "1. Enqueue 2. Dequeue 3. Display 4. Exit\n"
     ]
    },
    {
     "name": "stdin",
     "output_type": "stream",
     "text": [
      "Enter your choice:  1\n",
      "Enter data:  10\n"
     ]
    },
    {
     "name": "stdout",
     "output_type": "stream",
     "text": [
      "10 added to queue\n",
      "\n",
      "1. Enqueue 2. Dequeue 3. Display 4. Exit\n"
     ]
    },
    {
     "name": "stdin",
     "output_type": "stream",
     "text": [
      "Enter your choice:  1\n",
      "Enter data:  20\n"
     ]
    },
    {
     "name": "stdout",
     "output_type": "stream",
     "text": [
      "20 added to queue\n",
      "\n",
      "1. Enqueue 2. Dequeue 3. Display 4. Exit\n"
     ]
    },
    {
     "name": "stdin",
     "output_type": "stream",
     "text": [
      "Enter your choice:  1\n",
      "Enter data:  30\n"
     ]
    },
    {
     "name": "stdout",
     "output_type": "stream",
     "text": [
      "30 added to queue\n",
      "\n",
      "1. Enqueue 2. Dequeue 3. Display 4. Exit\n"
     ]
    },
    {
     "name": "stdin",
     "output_type": "stream",
     "text": [
      "Enter your choice:  3\n"
     ]
    },
    {
     "name": "stdout",
     "output_type": "stream",
     "text": [
      "Queue Elements: [10, 20, 30]\n",
      "\n",
      "1. Enqueue 2. Dequeue 3. Display 4. Exit\n"
     ]
    },
    {
     "name": "stdin",
     "output_type": "stream",
     "text": [
      "Enter your choice:  2\n"
     ]
    },
    {
     "name": "stdout",
     "output_type": "stream",
     "text": [
      "Dequeued Element: 10\n",
      "\n",
      "1. Enqueue 2. Dequeue 3. Display 4. Exit\n"
     ]
    },
    {
     "name": "stdin",
     "output_type": "stream",
     "text": [
      "Enter your choice:  3\n"
     ]
    },
    {
     "name": "stdout",
     "output_type": "stream",
     "text": [
      "Queue Elements: [20, 30]\n",
      "\n",
      "1. Enqueue 2. Dequeue 3. Display 4. Exit\n"
     ]
    },
    {
     "name": "stdin",
     "output_type": "stream",
     "text": [
      "Enter your choice:  4\n"
     ]
    }
   ],
   "source": [
    "class QueueArray:\n",
    "    def __init__(self):\n",
    "        self.queue = []\n",
    "\n",
    "    def enqueue(self, data):\n",
    "        self.queue.append(data)\n",
    "        print(f\"{data} added to queue\")\n",
    "\n",
    "    def dequeue(self):\n",
    "        if not self.queue:\n",
    "            print(\"Queue Underflow\")\n",
    "        else:\n",
    "            print(f\"Dequeued Element: {self.queue.pop(0)}\")\n",
    "\n",
    "    def display(self):\n",
    "        if not self.queue:\n",
    "            print(\"Queue is empty\")\n",
    "        else:\n",
    "            print(\"Queue Elements:\", self.queue)\n",
    "\n",
    "# Menu Driven Program\n",
    "queue = QueueArray()\n",
    "while True:\n",
    "    print(\"\\n1. Enqueue 2. Dequeue 3. Display 4. Exit\")\n",
    "    choice = int(input(\"Enter your choice: \"))\n",
    "    if choice == 1:\n",
    "        data = int(input(\"Enter data: \"))\n",
    "        queue.enqueue(data)\n",
    "    elif choice == 2:\n",
    "        queue.dequeue()\n",
    "    elif choice == 3:\n",
    "        queue.display()\n",
    "    elif choice == 4:\n",
    "        break\n"
   ]
  },
  {
   "cell_type": "code",
   "execution_count": null,
   "id": "7601e351-f175-40a7-b67f-ed4d26f5ddd5",
   "metadata": {},
   "outputs": [],
   "source": [
    "8 ii)"
   ]
  },
  {
   "cell_type": "code",
   "execution_count": 42,
   "id": "24ec3632-25db-4528-bea4-c09d3f8da3f4",
   "metadata": {},
   "outputs": [
    {
     "name": "stdout",
     "output_type": "stream",
     "text": [
      "\n",
      "1. Enqueue 2. Dequeue 3. Display 4. Exit\n"
     ]
    },
    {
     "name": "stdin",
     "output_type": "stream",
     "text": [
      "Enter your choice:  1\n",
      "Enter data:  10\n"
     ]
    },
    {
     "name": "stdout",
     "output_type": "stream",
     "text": [
      "10 added to queue\n",
      "\n",
      "1. Enqueue 2. Dequeue 3. Display 4. Exit\n"
     ]
    },
    {
     "name": "stdin",
     "output_type": "stream",
     "text": [
      "Enter your choice:  1\n",
      "Enter data:  20\n"
     ]
    },
    {
     "name": "stdout",
     "output_type": "stream",
     "text": [
      "20 added to queue\n",
      "\n",
      "1. Enqueue 2. Dequeue 3. Display 4. Exit\n"
     ]
    },
    {
     "name": "stdin",
     "output_type": "stream",
     "text": [
      "Enter your choice:  1\n",
      "Enter data:  30\n"
     ]
    },
    {
     "name": "stdout",
     "output_type": "stream",
     "text": [
      "30 added to queue\n",
      "\n",
      "1. Enqueue 2. Dequeue 3. Display 4. Exit\n"
     ]
    },
    {
     "name": "stdin",
     "output_type": "stream",
     "text": [
      "Enter your choice:  3\n"
     ]
    },
    {
     "name": "stdout",
     "output_type": "stream",
     "text": [
      "10 -> 20 -> 30 -> None\n",
      "\n",
      "1. Enqueue 2. Dequeue 3. Display 4. Exit\n"
     ]
    },
    {
     "name": "stdin",
     "output_type": "stream",
     "text": [
      "Enter your choice:  2\n"
     ]
    },
    {
     "name": "stdout",
     "output_type": "stream",
     "text": [
      "Dequeued Element: 10\n",
      "\n",
      "1. Enqueue 2. Dequeue 3. Display 4. Exit\n"
     ]
    },
    {
     "name": "stdin",
     "output_type": "stream",
     "text": [
      "Enter your choice:  3\n"
     ]
    },
    {
     "name": "stdout",
     "output_type": "stream",
     "text": [
      "20 -> 30 -> None\n",
      "\n",
      "1. Enqueue 2. Dequeue 3. Display 4. Exit\n"
     ]
    },
    {
     "name": "stdin",
     "output_type": "stream",
     "text": [
      "Enter your choice:  4\n"
     ]
    }
   ],
   "source": [
    "class Node:\n",
    "    def __init__(self, data):\n",
    "        self.data = data\n",
    "        self.next = None\n",
    "\n",
    "class QueueLinkedList:\n",
    "    def __init__(self):\n",
    "        self.front = self.rear = None\n",
    "\n",
    "    def enqueue(self, data):\n",
    "        new_node = Node(data)\n",
    "        if not self.rear:\n",
    "            self.front = self.rear = new_node\n",
    "        else:\n",
    "            self.rear.next = new_node\n",
    "            self.rear = new_node\n",
    "        print(f\"{data} added to queue\")\n",
    "\n",
    "    def dequeue(self):\n",
    "        if not self.front:\n",
    "            print(\"Queue Underflow\")\n",
    "        else:\n",
    "            print(f\"Dequeued Element: {self.front.data}\")\n",
    "            self.front = self.front.next\n",
    "            if not self.front:\n",
    "                self.rear = None\n",
    "\n",
    "    def display(self):\n",
    "        if not self.front:\n",
    "            print(\"Queue is empty\")\n",
    "        else:\n",
    "            temp = self.front\n",
    "            while temp:\n",
    "                print(temp.data, end=\" -> \")\n",
    "                temp = temp.next\n",
    "            print(\"None\")\n",
    "\n",
    "# Menu Driven Program\n",
    "queue = QueueLinkedList()\n",
    "while True:\n",
    "    print(\"\\n1. Enqueue 2. Dequeue 3. Display 4. Exit\")\n",
    "    choice = int(input(\"Enter your choice: \"))\n",
    "    if choice == 1:\n",
    "        data = int(input(\"Enter data: \"))\n",
    "        queue.enqueue(data)\n",
    "    elif choice == 2:\n",
    "        queue.dequeue()\n",
    "    elif choice == 3:\n",
    "        queue.display()\n",
    "    elif choice == 4:\n",
    "        break\n"
   ]
  },
  {
   "cell_type": "code",
   "execution_count": null,
   "id": "ab7eb8eb-751d-4489-ae8a-c6ed37e6b53c",
   "metadata": {},
   "outputs": [],
   "source": [
    "9"
   ]
  },
  {
   "cell_type": "code",
   "execution_count": 47,
   "id": "737003b8-ac99-41a3-ad0c-68a0192cd24f",
   "metadata": {},
   "outputs": [
    {
     "name": "stdin",
     "output_type": "stream",
     "text": [
      "Enter size of Circular Queue:  3\n"
     ]
    },
    {
     "name": "stdout",
     "output_type": "stream",
     "text": [
      "\n",
      "1. Enqueue 2. Dequeue 3. Display 4. Exit\n"
     ]
    },
    {
     "name": "stdin",
     "output_type": "stream",
     "text": [
      "Enter your choice:  1\n",
      "Enter data:  10\n"
     ]
    },
    {
     "name": "stdout",
     "output_type": "stream",
     "text": [
      "10 added to queue\n",
      "\n",
      "1. Enqueue 2. Dequeue 3. Display 4. Exit\n"
     ]
    },
    {
     "name": "stdin",
     "output_type": "stream",
     "text": [
      "Enter your choice:  1\n",
      "Enter data:  20\n"
     ]
    },
    {
     "name": "stdout",
     "output_type": "stream",
     "text": [
      "20 added to queue\n",
      "\n",
      "1. Enqueue 2. Dequeue 3. Display 4. Exit\n"
     ]
    },
    {
     "name": "stdin",
     "output_type": "stream",
     "text": [
      "Enter your choice:  1\n",
      "Enter data:  30\n"
     ]
    },
    {
     "name": "stdout",
     "output_type": "stream",
     "text": [
      "30 added to queue\n",
      "\n",
      "1. Enqueue 2. Dequeue 3. Display 4. Exit\n"
     ]
    },
    {
     "name": "stdin",
     "output_type": "stream",
     "text": [
      "Enter your choice:  3\n"
     ]
    },
    {
     "name": "stdout",
     "output_type": "stream",
     "text": [
      "Queue Elements: 10 20 30 \n",
      "\n",
      "1. Enqueue 2. Dequeue 3. Display 4. Exit\n"
     ]
    },
    {
     "name": "stdin",
     "output_type": "stream",
     "text": [
      "Enter your choice:  2\n"
     ]
    },
    {
     "name": "stdout",
     "output_type": "stream",
     "text": [
      "Dequeued Element: 10\n",
      "\n",
      "1. Enqueue 2. Dequeue 3. Display 4. Exit\n"
     ]
    },
    {
     "name": "stdin",
     "output_type": "stream",
     "text": [
      "Enter your choice:  3\n"
     ]
    },
    {
     "name": "stdout",
     "output_type": "stream",
     "text": [
      "Queue Elements: 20 30 \n",
      "\n",
      "1. Enqueue 2. Dequeue 3. Display 4. Exit\n"
     ]
    },
    {
     "name": "stdin",
     "output_type": "stream",
     "text": [
      "Enter your choice:  4\n"
     ]
    }
   ],
   "source": [
    "class CircularQueue:\n",
    "    def __init__(self, size):\n",
    "        self.size = size\n",
    "        self.queue = [None] * size\n",
    "        self.front = self.rear = -1\n",
    "\n",
    "    def enqueue(self, data):\n",
    "        if (self.rear + 1) % self.size == self.front:\n",
    "            print(\"Queue Overflow\")\n",
    "        elif self.front == -1:  # First element\n",
    "            self.front = self.rear = 0\n",
    "            self.queue[self.rear] = data\n",
    "        else:\n",
    "            self.rear = (self.rear + 1) % self.size\n",
    "            self.queue[self.rear] = data\n",
    "        print(f\"{data} added to queue\")\n",
    "\n",
    "    def dequeue(self):\n",
    "        if self.front == -1:\n",
    "            print(\"Queue Underflow\")\n",
    "        elif self.front == self.rear:  # Only one element\n",
    "            print(f\"Dequeued Element: {self.queue[self.front]}\")\n",
    "            self.front = self.rear = -1\n",
    "        else:\n",
    "            print(f\"Dequeued Element: {self.queue[self.front]}\")\n",
    "            self.front = (self.front + 1) % self.size\n",
    "\n",
    "    def display(self):\n",
    "        if self.front == -1:\n",
    "            print(\"Queue is empty\")\n",
    "        else:\n",
    "            print(\"Queue Elements:\", end=\" \")\n",
    "            i = self.front\n",
    "            while True:\n",
    "                print(self.queue[i], end=\" \")\n",
    "                if i == self.rear:\n",
    "                    break\n",
    "                i = (i + 1) % self.size\n",
    "            print()\n",
    "\n",
    "# Menu Driven Program\n",
    "size = int(input(\"Enter size of Circular Queue: \"))\n",
    "cq = CircularQueue(size)\n",
    "while True:\n",
    "    print(\"\\n1. Enqueue 2. Dequeue 3. Display 4. Exit\")\n",
    "    choice = int(input(\"Enter your choice: \"))\n",
    "    if choice == 1:\n",
    "        data = int(input(\"Enter data: \"))\n",
    "        cq.enqueue(data)\n",
    "    elif choice == 2:\n",
    "        cq.dequeue()\n",
    "    elif choice == 3:\n",
    "        cq.display()\n",
    "    elif choice == 4:\n",
    "        break\n"
   ]
  },
  {
   "cell_type": "code",
   "execution_count": null,
   "id": "9c51ad52-6d0e-4d3f-a2e1-716019c4dcba",
   "metadata": {},
   "outputs": [],
   "source": [
    "10"
   ]
  },
  {
   "cell_type": "code",
   "execution_count": 52,
   "id": "b1ce0485-2f1f-4c7f-b148-6331d2938f78",
   "metadata": {},
   "outputs": [
    {
     "name": "stdout",
     "output_type": "stream",
     "text": [
      "\n",
      "1. Insert 2. Delete 3. Search 4. Display (Inorder) 5. Exit\n"
     ]
    },
    {
     "name": "stdin",
     "output_type": "stream",
     "text": [
      "Enter your choice:  1\n",
      "Enter key to insert:  20\n"
     ]
    },
    {
     "name": "stdout",
     "output_type": "stream",
     "text": [
      "\n",
      "1. Insert 2. Delete 3. Search 4. Display (Inorder) 5. Exit\n"
     ]
    },
    {
     "name": "stdin",
     "output_type": "stream",
     "text": [
      "Enter your choice:  1\n",
      "Enter key to insert:  10\n"
     ]
    },
    {
     "name": "stdout",
     "output_type": "stream",
     "text": [
      "\n",
      "1. Insert 2. Delete 3. Search 4. Display (Inorder) 5. Exit\n"
     ]
    },
    {
     "name": "stdin",
     "output_type": "stream",
     "text": [
      "Enter your choice:  4\n"
     ]
    },
    {
     "name": "stdout",
     "output_type": "stream",
     "text": [
      "BST Elements (Inorder Traversal): 10 20 \n",
      "\n",
      "1. Insert 2. Delete 3. Search 4. Display (Inorder) 5. Exit\n"
     ]
    },
    {
     "name": "stdin",
     "output_type": "stream",
     "text": [
      "Enter your choice:  3\n",
      "Enter key to search:  20\n"
     ]
    },
    {
     "name": "stdout",
     "output_type": "stream",
     "text": [
      "Key 20 found in the BST\n",
      "\n",
      "1. Insert 2. Delete 3. Search 4. Display (Inorder) 5. Exit\n"
     ]
    },
    {
     "name": "stdin",
     "output_type": "stream",
     "text": [
      "Enter your choice:  5\n"
     ]
    }
   ],
   "source": [
    "class Node:\n",
    "    def __init__(self, key):\n",
    "        self.left = None\n",
    "        self.right = None\n",
    "        self.key = key\n",
    "\n",
    "# Insert function\n",
    "def insert(root, key):\n",
    "    if root is None:\n",
    "        return Node(key)\n",
    "    elif key < root.key:\n",
    "        root.left = insert(root.left, key)\n",
    "    else:\n",
    "        root.right = insert(root.right, key)\n",
    "    return root\n",
    "\n",
    "# Delete function\n",
    "def delete(root, key):\n",
    "    if root is None:\n",
    "        return root\n",
    "    if key < root.key:\n",
    "        root.left = delete(root.left, key)\n",
    "    elif key > root.key:\n",
    "        root.right = delete(root.right, key)\n",
    "    else:\n",
    "        # Node with one or no child\n",
    "        if root.left is None:\n",
    "            return root.right\n",
    "        elif root.right is None:\n",
    "            return root.left\n",
    "\n",
    "        # Node with two children: get the inorder successor\n",
    "        temp = find_min(root.right)\n",
    "        root.key = temp.key\n",
    "        root.right = delete(root.right, temp.key)\n",
    "    return root\n",
    "\n",
    "# Find the minimum value (used in deletion)\n",
    "def find_min(node):\n",
    "    current = node\n",
    "    while current.left is not None:\n",
    "        current = current.left\n",
    "    return current\n",
    "\n",
    "# Search function\n",
    "def search(root, key):\n",
    "    if root is None or root.key == key:\n",
    "        return root\n",
    "    if key < root.key:\n",
    "        return search(root.left, key)\n",
    "    return search(root.right, key)\n",
    "\n",
    "# Inorder Traversal (to display BST elements)\n",
    "def inorder(root):\n",
    "    if root:\n",
    "        inorder(root.left)\n",
    "        print(root.key, end=\" \")\n",
    "        inorder(root.right)\n",
    "\n",
    "# Menu-Driven Program\n",
    "root = None\n",
    "while True:\n",
    "    print(\"\\n1. Insert 2. Delete 3. Search 4. Display (Inorder) 5. Exit\")\n",
    "    choice = int(input(\"Enter your choice: \"))\n",
    "    if choice == 1:\n",
    "        key = int(input(\"Enter key to insert: \"))\n",
    "        root = insert(root, key)\n",
    "    elif choice == 2:\n",
    "        key = int(input(\"Enter key to delete: \"))\n",
    "        root = delete(root, key)\n",
    "    elif choice == 3:\n",
    "        key = int(input(\"Enter key to search: \"))\n",
    "        result = search(root, key)\n",
    "        if result:\n",
    "            print(f\"Key {key} found in the BST\")\n",
    "        else:\n",
    "            print(f\"Key {key} not found in the BST\")\n",
    "    elif choice == 4:\n",
    "        print(\"BST Elements (Inorder Traversal): \", end=\"\")\n",
    "        inorder(root)\n",
    "        print()\n",
    "    elif choice == 5:\n",
    "        break\n"
   ]
  },
  {
   "cell_type": "code",
   "execution_count": null,
   "id": "f30379b5-03e5-4759-abb3-cc902c6caea7",
   "metadata": {},
   "outputs": [],
   "source": [
    "11"
   ]
  },
  {
   "cell_type": "code",
   "execution_count": 55,
   "id": "77feca99-7d1d-47db-bba9-9791f121af4b",
   "metadata": {},
   "outputs": [
    {
     "name": "stdin",
     "output_type": "stream",
     "text": [
      "Enter array elements:  2 3 4\n",
      "Enter element to search:  3\n"
     ]
    },
    {
     "name": "stdout",
     "output_type": "stream",
     "text": [
      "Element found at index 1\n"
     ]
    }
   ],
   "source": [
    "def linear_search(arr, x):\n",
    "    for i in range(len(arr)):\n",
    "        if arr[i] == x:\n",
    "            return i  # Return index if found\n",
    "    return -1  # Return -1 if not found\n",
    "\n",
    "# Input and Testing\n",
    "arr = list(map(int, input(\"Enter array elements: \").split()))\n",
    "x = int(input(\"Enter element to search: \"))\n",
    "result = linear_search(arr, x)\n",
    "if result != -1:\n",
    "    print(f\"Element found at index {result}\")\n",
    "else:\n",
    "    print(\"Element not found\")\n"
   ]
  },
  {
   "cell_type": "code",
   "execution_count": null,
   "id": "fec3b887-c1a0-467e-8139-1bdb19152929",
   "metadata": {},
   "outputs": [],
   "source": [
    "12"
   ]
  },
  {
   "cell_type": "code",
   "execution_count": 58,
   "id": "aad3c23f-0a8f-4555-91d1-437b9f832e6e",
   "metadata": {},
   "outputs": [
    {
     "name": "stdin",
     "output_type": "stream",
     "text": [
      "Enter sorted array elements:  1 2 4 6 10 23\n",
      "Enter element to search:  6\n"
     ]
    },
    {
     "name": "stdout",
     "output_type": "stream",
     "text": [
      "Element found at index 3\n"
     ]
    }
   ],
   "source": [
    "def binary_search(arr, x):\n",
    "    low, high = 0, len(arr) - 1\n",
    "    while low <= high:\n",
    "        mid = (low + high) // 2\n",
    "        if arr[mid] == x:\n",
    "            return mid\n",
    "        elif arr[mid] < x:\n",
    "            low = mid + 1\n",
    "        else:\n",
    "            high = mid - 1\n",
    "    return -1\n",
    "\n",
    "# Input and Testing\n",
    "arr = sorted(list(map(int, input(\"Enter sorted array elements: \").split())))\n",
    "x = int(input(\"Enter element to search: \"))\n",
    "result = binary_search(arr, x)\n",
    "if result != -1:\n",
    "    print(f\"Element found at index {result}\")\n",
    "else:\n",
    "    print(\"Element not found\")\n"
   ]
  },
  {
   "cell_type": "code",
   "execution_count": null,
   "id": "4216ad2d-ba7a-4451-9f1f-6f350e5799e2",
   "metadata": {},
   "outputs": [],
   "source": [
    "13"
   ]
  },
  {
   "cell_type": "code",
   "execution_count": 61,
   "id": "b84823c5-6bd2-425c-99df-1763c6b9748e",
   "metadata": {},
   "outputs": [
    {
     "name": "stdout",
     "output_type": "stream",
     "text": [
      "\n",
      "1. Insert 2. Preorder 3. Inorder 4. Postorder 5. Exit\n"
     ]
    },
    {
     "name": "stdin",
     "output_type": "stream",
     "text": [
      "Enter your choice:  1\n",
      "Enter key to insert:  30\n"
     ]
    },
    {
     "name": "stdout",
     "output_type": "stream",
     "text": [
      "\n",
      "1. Insert 2. Preorder 3. Inorder 4. Postorder 5. Exit\n"
     ]
    },
    {
     "name": "stdin",
     "output_type": "stream",
     "text": [
      "Enter your choice:  1\n",
      "Enter key to insert:  10\n"
     ]
    },
    {
     "name": "stdout",
     "output_type": "stream",
     "text": [
      "\n",
      "1. Insert 2. Preorder 3. Inorder 4. Postorder 5. Exit\n"
     ]
    },
    {
     "name": "stdin",
     "output_type": "stream",
     "text": [
      "Enter your choice:  1\n",
      "Enter key to insert:  20\n"
     ]
    },
    {
     "name": "stdout",
     "output_type": "stream",
     "text": [
      "\n",
      "1. Insert 2. Preorder 3. Inorder 4. Postorder 5. Exit\n"
     ]
    },
    {
     "name": "stdin",
     "output_type": "stream",
     "text": [
      "Enter your choice:  3\n"
     ]
    },
    {
     "name": "stdout",
     "output_type": "stream",
     "text": [
      "Inorder Traversal: 10 20 30 \n",
      "\n",
      "1. Insert 2. Preorder 3. Inorder 4. Postorder 5. Exit\n"
     ]
    },
    {
     "name": "stdin",
     "output_type": "stream",
     "text": [
      "Enter your choice:  4\n"
     ]
    },
    {
     "name": "stdout",
     "output_type": "stream",
     "text": [
      "Postorder Traversal: 20 10 30 \n",
      "\n",
      "1. Insert 2. Preorder 3. Inorder 4. Postorder 5. Exit\n"
     ]
    },
    {
     "name": "stdin",
     "output_type": "stream",
     "text": [
      "Enter your choice:  5\n"
     ]
    }
   ],
   "source": [
    "class Node:\n",
    "    def __init__(self, key):\n",
    "        self.left = None\n",
    "        self.right = None\n",
    "        self.key = key\n",
    "\n",
    "# Traversal Functions\n",
    "def preorder(root):\n",
    "    if root:\n",
    "        print(root.key, end=\" \")\n",
    "        preorder(root.left)\n",
    "        preorder(root.right)\n",
    "\n",
    "def inorder(root):\n",
    "    if root:\n",
    "        inorder(root.left)\n",
    "        print(root.key, end=\" \")\n",
    "        inorder(root.right)\n",
    "\n",
    "def postorder(root):\n",
    "    if root:\n",
    "        postorder(root.left)\n",
    "        postorder(root.right)\n",
    "        print(root.key, end=\" \")\n",
    "\n",
    "# Insert into Binary Tree\n",
    "def insert(root, key):\n",
    "    if root is None:\n",
    "        return Node(key)\n",
    "    elif key < root.key:\n",
    "        root.left = insert(root.left, key)\n",
    "    else:\n",
    "        root.right = insert(root.right, key)\n",
    "    return root\n",
    "\n",
    "# Menu-Driven Program\n",
    "root = None\n",
    "while True:\n",
    "    print(\"\\n1. Insert 2. Preorder 3. Inorder 4. Postorder 5. Exit\")\n",
    "    choice = int(input(\"Enter your choice: \"))\n",
    "    if choice == 1:\n",
    "        key = int(input(\"Enter key to insert: \"))\n",
    "        root = insert(root, key)\n",
    "    elif choice == 2:\n",
    "        print(\"Preorder Traversal: \", end=\"\")\n",
    "        preorder(root)\n",
    "        print()\n",
    "    elif choice == 3:\n",
    "        print(\"Inorder Traversal: \", end=\"\")\n",
    "        inorder(root)\n",
    "        print()\n",
    "    elif choice == 4:\n",
    "        print(\"Postorder Traversal: \", end=\"\")\n",
    "        postorder(root)\n",
    "        print()\n",
    "    elif choice == 5:\n",
    "        break\n"
   ]
  },
  {
   "cell_type": "code",
   "execution_count": null,
   "id": "83055b99-b4fe-412a-a196-afd01f96f87e",
   "metadata": {},
   "outputs": [],
   "source": [
    "14"
   ]
  },
  {
   "cell_type": "code",
   "execution_count": 64,
   "id": "9a68a5a7-b89e-44c9-8c19-27da4f79506a",
   "metadata": {},
   "outputs": [
    {
     "name": "stdout",
     "output_type": "stream",
     "text": [
      "\n",
      "1. Insert 2. Search 3. Display Inorder 4. Exit\n"
     ]
    },
    {
     "name": "stdin",
     "output_type": "stream",
     "text": [
      "Enter your choice:  1\n",
      "Enter key to insert:  30\n"
     ]
    },
    {
     "name": "stdout",
     "output_type": "stream",
     "text": [
      "\n",
      "1. Insert 2. Search 3. Display Inorder 4. Exit\n"
     ]
    },
    {
     "name": "stdin",
     "output_type": "stream",
     "text": [
      "Enter your choice:  1\n",
      "Enter key to insert:  10\n"
     ]
    },
    {
     "name": "stdout",
     "output_type": "stream",
     "text": [
      "\n",
      "1. Insert 2. Search 3. Display Inorder 4. Exit\n"
     ]
    },
    {
     "name": "stdin",
     "output_type": "stream",
     "text": [
      "Enter your choice:  1\n",
      "Enter key to insert:  20\n"
     ]
    },
    {
     "name": "stdout",
     "output_type": "stream",
     "text": [
      "\n",
      "1. Insert 2. Search 3. Display Inorder 4. Exit\n"
     ]
    },
    {
     "name": "stdin",
     "output_type": "stream",
     "text": [
      "Enter your choice:  3\n"
     ]
    },
    {
     "name": "stdout",
     "output_type": "stream",
     "text": [
      "Inorder Traversal of AVL Tree: 10 20 30 \n",
      "\n",
      "1. Insert 2. Search 3. Display Inorder 4. Exit\n"
     ]
    },
    {
     "name": "stdin",
     "output_type": "stream",
     "text": [
      "Enter your choice:  2\n",
      "Enter key to search:  20\n"
     ]
    },
    {
     "name": "stdout",
     "output_type": "stream",
     "text": [
      "Key 20 found\n",
      "\n",
      "1. Insert 2. Search 3. Display Inorder 4. Exit\n"
     ]
    },
    {
     "name": "stdin",
     "output_type": "stream",
     "text": [
      "Enter your choice:  4\n"
     ]
    }
   ],
   "source": [
    "class Node:\n",
    "    def __init__(self, key):\n",
    "        self.key = key\n",
    "        self.left = None\n",
    "        self.right = None\n",
    "        self.height = 1\n",
    "\n",
    "def get_height(node):\n",
    "    if not node:\n",
    "        return 0\n",
    "    return node.height\n",
    "\n",
    "def get_balance(node):\n",
    "    if not node:\n",
    "        return 0\n",
    "    return get_height(node.left) - get_height(node.right)\n",
    "\n",
    "def rotate_right(y):\n",
    "    x = y.left\n",
    "    T2 = x.right\n",
    "    x.right = y\n",
    "    y.left = T2\n",
    "    y.height = 1 + max(get_height(y.left), get_height(y.right))\n",
    "    x.height = 1 + max(get_height(x.left), get_height(x.right))\n",
    "    return x\n",
    "\n",
    "def rotate_left(x):\n",
    "    y = x.right\n",
    "    T2 = y.left\n",
    "    y.left = x\n",
    "    x.right = T2\n",
    "    x.height = 1 + max(get_height(x.left), get_height(x.right))\n",
    "    y.height = 1 + max(get_height(y.left), get_height(y.right))\n",
    "    return y\n",
    "\n",
    "# Insert operation\n",
    "def insert(node, key):\n",
    "    if not node:\n",
    "        return Node(key)\n",
    "    if key < node.key:\n",
    "        node.left = insert(node.left, key)\n",
    "    else:\n",
    "        node.right = insert(node.right, key)\n",
    "\n",
    "    node.height = 1 + max(get_height(node.left), get_height(node.right))\n",
    "    balance = get_balance(node)\n",
    "\n",
    "    # Left heavy\n",
    "    if balance > 1 and key < node.left.key:\n",
    "        return rotate_right(node)\n",
    "    # Right heavy\n",
    "    if balance < -1 and key > node.right.key:\n",
    "        return rotate_left(node)\n",
    "    # Left-Right heavy\n",
    "    if balance > 1 and key > node.left.key:\n",
    "        node.left = rotate_left(node.left)\n",
    "        return rotate_right(node)\n",
    "    # Right-Left heavy\n",
    "    if balance < -1 and key < node.right.key:\n",
    "        node.right = rotate_right(node.right)\n",
    "        return rotate_left(node)\n",
    "\n",
    "    return node\n",
    "\n",
    "# Inorder Traversal\n",
    "def inorder(node):\n",
    "    if node:\n",
    "        inorder(node.left)\n",
    "        print(node.key, end=\" \")\n",
    "        inorder(node.right)\n",
    "\n",
    "# Search operation\n",
    "def search(node, key):\n",
    "    if not node or node.key == key:\n",
    "        return node\n",
    "    if key < node.key:\n",
    "        return search(node.left, key)\n",
    "    return search(node.right, key)\n",
    "\n",
    "# Menu-driven Program\n",
    "root = None\n",
    "while True:\n",
    "    print(\"\\n1. Insert 2. Search 3. Display Inorder 4. Exit\")\n",
    "    choice = int(input(\"Enter your choice: \"))\n",
    "    if choice == 1:\n",
    "        key = int(input(\"Enter key to insert: \"))\n",
    "        root = insert(root, key)\n",
    "    elif choice == 2:\n",
    "        key = int(input(\"Enter key to search: \"))\n",
    "        result = search(root, key)\n",
    "        print(f\"Key {key} found\" if result else f\"Key {key} not found\")\n",
    "    elif choice == 3:\n",
    "        print(\"Inorder Traversal of AVL Tree: \", end=\"\")\n",
    "        inorder(root)\n",
    "        print()\n",
    "    elif choice == 4:\n",
    "        break\n"
   ]
  },
  {
   "cell_type": "code",
   "execution_count": null,
   "id": "4b1101e9-29a4-48ec-a6b5-574c0a0ed9ab",
   "metadata": {},
   "outputs": [],
   "source": [
    "15"
   ]
  },
  {
   "cell_type": "code",
   "execution_count": 77,
   "id": "b813b854-a5ca-41fb-85cc-89fc2b2bf6e8",
   "metadata": {},
   "outputs": [
    {
     "name": "stdin",
     "output_type": "stream",
     "text": [
      "Enter number of vertices:  5\n",
      "Enter number of edges:  4\n",
      "Enter edge (u, v):  1 1\n",
      "Enter edge (u, v):  2 2\n",
      "Enter edge (u, v):  3 3\n",
      "Enter edge (u, v):  4 4\n"
     ]
    },
    {
     "name": "stdout",
     "output_type": "stream",
     "text": [
      "\n",
      "Adjacency Matrix:\n",
      "[0, 0, 0, 0, 0]\n",
      "[0, 1, 0, 0, 0]\n",
      "[0, 0, 1, 0, 0]\n",
      "[0, 0, 0, 1, 0]\n",
      "[0, 0, 0, 0, 1]\n",
      "\n",
      "Adjacency List:\n",
      "0: []\n",
      "1: [1, 1]\n",
      "2: [2, 2]\n",
      "3: [3, 3]\n",
      "4: [4, 4]\n"
     ]
    }
   ],
   "source": [
    "# Graph using Adjacency Matrix\n",
    "def adjacency_matrix(vertices, edges):\n",
    "    matrix = [[0] * vertices for _ in range(vertices)]\n",
    "    for edge in edges:\n",
    "        u, v = edge\n",
    "        matrix[u][v] = 1\n",
    "        matrix[v][u] = 1  # For undirected graph\n",
    "    return matrix\n",
    "\n",
    "# Graph using Adjacency List\n",
    "def adjacency_list(vertices, edges):\n",
    "    adj_list = {i: [] for i in range(vertices)}\n",
    "    for edge in edges:\n",
    "        u, v = edge\n",
    "        adj_list[u].append(v)\n",
    "        adj_list[v].append(u)  # For undirected graph\n",
    "    return adj_list\n",
    "\n",
    "# Input\n",
    "vertices = int(input(\"Enter number of vertices: \"))\n",
    "edges_count = int(input(\"Enter number of edges: \"))\n",
    "edges = []\n",
    "for _ in range(edges_count):\n",
    "    u, v = map(int, input(\"Enter edge (u, v): \").split())\n",
    "    edges.append((u, v))\n",
    "\n",
    "# Output\n",
    "print(\"\\nAdjacency Matrix:\")\n",
    "matrix = adjacency_matrix(vertices, edges)\n",
    "for row in matrix:\n",
    "    print(row)\n",
    "\n",
    "print(\"\\nAdjacency List:\")\n",
    "adj_list = adjacency_list(vertices, edges)\n",
    "for key, value in adj_list.items():\n",
    "    print(f\"{key}: {value}\")\n"
   ]
  },
  {
   "cell_type": "code",
   "execution_count": null,
   "id": "6671e3cf-c26f-440f-9cb6-dc2521428357",
   "metadata": {},
   "outputs": [],
   "source": [
    "16"
   ]
  },
  {
   "cell_type": "code",
   "execution_count": 88,
   "id": "ced22cd6-b09a-4667-b91a-1e7e2c17ddb0",
   "metadata": {},
   "outputs": [
    {
     "name": "stdin",
     "output_type": "stream",
     "text": [
      "Enter number of vertices:  5\n",
      "Enter number of edges:  6\n",
      "Enter edge (u, v):  0 1\n",
      "Enter edge (u, v):  0 2\n",
      "Enter edge (u, v):  1 2\n",
      "Enter edge (u, v):  1 3\n",
      "Enter edge (u, v):  2 4\n",
      "Enter edge (u, v):  3 4\n",
      "Enter starting vertex:  0\n"
     ]
    },
    {
     "name": "stdout",
     "output_type": "stream",
     "text": [
      "BFS Traversal: 0 1 2 3 4 \n",
      "DFS Traversal: 0 1 2 4 3 "
     ]
    }
   ],
   "source": [
    "from collections import deque\n",
    "\n",
    "def bfs(graph, start):\n",
    "    visited = set()\n",
    "    queue = deque([start])\n",
    "    print(\"BFS Traversal: \", end=\"\")\n",
    "    while queue:\n",
    "        node = queue.popleft()\n",
    "        if node not in visited:\n",
    "            print(node, end=\" \")\n",
    "            visited.add(node)\n",
    "            for neighbor in graph[node]:\n",
    "                if neighbor not in visited:\n",
    "                    queue.append(neighbor)\n",
    "\n",
    "def dfs(graph, start, visited=None):\n",
    "    if visited is None:\n",
    "        visited = set()\n",
    "    visited.add(start)\n",
    "    print(start, end=\" \")\n",
    "    for neighbor in graph[start]:\n",
    "        if neighbor not in visited:\n",
    "            dfs(graph, neighbor, visited)\n",
    "\n",
    "# Input\n",
    "vertices = int(input(\"Enter number of vertices: \"))\n",
    "edges_count = int(input(\"Enter number of edges: \"))\n",
    "graph = {i: [] for i in range(vertices)}\n",
    "for _ in range(edges_count):\n",
    "    u, v = map(int, input(\"Enter edge (u, v): \").split())\n",
    "    graph[u].append(v)\n",
    "    graph[v].append(u)\n",
    "\n",
    "# Traversal\n",
    "start = int(input(\"Enter starting vertex: \"))\n",
    "bfs(graph, start)\n",
    "print(\"\\nDFS Traversal: \", end=\"\")\n",
    "dfs(graph, start)\n"
   ]
  },
  {
   "cell_type": "code",
   "execution_count": null,
   "id": "de1038bf-4db7-4676-ada9-49f195b5e92e",
   "metadata": {},
   "outputs": [],
   "source": [
    "17"
   ]
  },
  {
   "cell_type": "code",
   "execution_count": 91,
   "id": "c5fb3c09-ff81-4a47-a0f6-99606f4fae42",
   "metadata": {},
   "outputs": [
    {
     "name": "stdin",
     "output_type": "stream",
     "text": [
      "Enter elements to sort:  1 6 9 3 4 8 12 34\n"
     ]
    },
    {
     "name": "stdout",
     "output_type": "stream",
     "text": [
      "Sorted Array: [1, 3, 4, 6, 8, 9, 12, 34]\n"
     ]
    }
   ],
   "source": [
    "def bubble_sort(arr):\n",
    "    n = len(arr)\n",
    "    for i in range(n):\n",
    "        for j in range(n - i - 1):\n",
    "            if arr[j] > arr[j + 1]:\n",
    "                arr[j], arr[j + 1] = arr[j + 1], arr[j]\n",
    "\n",
    "# Input and Testing\n",
    "arr = list(map(int, input(\"Enter elements to sort: \").split()))\n",
    "bubble_sort(arr)\n",
    "print(\"Sorted Array:\", arr)\n"
   ]
  },
  {
   "cell_type": "code",
   "execution_count": null,
   "id": "7861245a-d0be-402e-8d71-893f9c641fc7",
   "metadata": {},
   "outputs": [],
   "source": [
    "18"
   ]
  },
  {
   "cell_type": "code",
   "execution_count": 94,
   "id": "df3f9f4f-eb17-4eb9-88bb-0d7ea0ec4c70",
   "metadata": {},
   "outputs": [
    {
     "name": "stdin",
     "output_type": "stream",
     "text": [
      "Enter elements to sort:  67 34 23 89 3 6 4 90\n"
     ]
    },
    {
     "name": "stdout",
     "output_type": "stream",
     "text": [
      "Sorted Array: [3, 4, 6, 23, 34, 67, 89, 90]\n"
     ]
    }
   ],
   "source": [
    "def merge_sort(arr):\n",
    "    if len(arr) > 1:\n",
    "        mid = len(arr) // 2\n",
    "        left_half = arr[:mid]\n",
    "        right_half = arr[mid:]\n",
    "\n",
    "        merge_sort(left_half)\n",
    "        merge_sort(right_half)\n",
    "\n",
    "        i = j = k = 0\n",
    "        while i < len(left_half) and j < len(right_half):\n",
    "            if left_half[i] < right_half[j]:\n",
    "                arr[k] = left_half[i]\n",
    "                i += 1\n",
    "            else:\n",
    "                arr[k] = right_half[j]\n",
    "                j += 1\n",
    "            k += 1\n",
    "\n",
    "        while i < len(left_half):\n",
    "            arr[k] = left_half[i]\n",
    "            i += 1\n",
    "            k += 1\n",
    "\n",
    "        while j < len(right_half):\n",
    "            arr[k] = right_half[j]\n",
    "            j += 1\n",
    "            k += 1\n",
    "\n",
    "# Input and Testing\n",
    "arr = list(map(int, input(\"Enter elements to sort: \").split()))\n",
    "merge_sort(arr)\n",
    "print(\"Sorted Array:\", arr)\n"
   ]
  },
  {
   "cell_type": "code",
   "execution_count": null,
   "id": "fb43d33f-dee2-49c2-a2db-5097719154a8",
   "metadata": {},
   "outputs": [],
   "source": [
    "19"
   ]
  },
  {
   "cell_type": "code",
   "execution_count": 97,
   "id": "33770306-c2cd-478b-bd6d-c6d7b28d4379",
   "metadata": {},
   "outputs": [
    {
     "name": "stdin",
     "output_type": "stream",
     "text": [
      "Enter elements to sort:  3 67 2 45 56 8 9 6\n"
     ]
    },
    {
     "name": "stdout",
     "output_type": "stream",
     "text": [
      "Sorted Array: [2, 3, 6, 8, 9, 45, 56, 67]\n"
     ]
    }
   ],
   "source": [
    "def partition(arr, low, high):\n",
    "    pivot = arr[high]  # Choose the last element as the pivot\n",
    "    i = low - 1  # Index of smaller element\n",
    "    for j in range(low, high):\n",
    "        if arr[j] < pivot:\n",
    "            i += 1\n",
    "            arr[i], arr[j] = arr[j], arr[i]  # Swap\n",
    "    arr[i + 1], arr[high] = arr[high], arr[i + 1]\n",
    "    return i + 1\n",
    "\n",
    "def quick_sort(arr, low, high):\n",
    "    if low < high:\n",
    "        pi = partition(arr, low, high)  # Partitioning index\n",
    "        quick_sort(arr, low, pi - 1)  # Sort elements before partition\n",
    "        quick_sort(arr, pi + 1, high)  # Sort elements after partition\n",
    "\n",
    "# Input and Testing\n",
    "arr = list(map(int, input(\"Enter elements to sort: \").split()))\n",
    "quick_sort(arr, 0, len(arr) - 1)\n",
    "print(\"Sorted Array:\", arr)\n"
   ]
  },
  {
   "cell_type": "code",
   "execution_count": null,
   "id": "7e860d0d-d1e3-439c-a5c4-b2c8f3b08625",
   "metadata": {},
   "outputs": [],
   "source": [
    "20"
   ]
  },
  {
   "cell_type": "code",
   "execution_count": 100,
   "id": "81df3983-f396-4433-b3e4-deee34513504",
   "metadata": {},
   "outputs": [
    {
     "name": "stdin",
     "output_type": "stream",
     "text": [
      "Enter elements to sort:  34 56 23 87 59 37 4 8 9\n"
     ]
    },
    {
     "name": "stdout",
     "output_type": "stream",
     "text": [
      "Sorted Array: [4, 8, 9, 23, 34, 37, 56, 59, 87]\n"
     ]
    }
   ],
   "source": [
    "def heapify(arr, n, i):\n",
    "    largest = i  # Initialize the largest as root\n",
    "    left = 2 * i + 1\n",
    "    right = 2 * i + 2\n",
    "\n",
    "    if left < n and arr[left] > arr[largest]:\n",
    "        largest = left\n",
    "\n",
    "    if right < n and arr[right] > arr[largest]:\n",
    "        largest = right\n",
    "\n",
    "    if largest != i:\n",
    "        arr[i], arr[largest] = arr[largest], arr[i]\n",
    "        heapify(arr, n, largest)\n",
    "\n",
    "def heap_sort(arr):\n",
    "    n = len(arr)\n",
    "    for i in range(n // 2 - 1, -1, -1):  # Build a max heap\n",
    "        heapify(arr, n, i)\n",
    "\n",
    "    for i in range(n - 1, 0, -1):  # Extract elements\n",
    "        arr[i], arr[0] = arr[0], arr[i]\n",
    "        heapify(arr, i, 0)\n",
    "\n",
    "# Input and Testing\n",
    "arr = list(map(int, input(\"Enter elements to sort: \").split()))\n",
    "heap_sort(arr)\n",
    "print(\"Sorted Array:\", arr)\n"
   ]
  },
  {
   "cell_type": "code",
   "execution_count": null,
   "id": "b75ba884-f071-4fa2-af59-9b42acb08b5e",
   "metadata": {},
   "outputs": [],
   "source": [
    "21"
   ]
  },
  {
   "cell_type": "code",
   "execution_count": 105,
   "id": "428212d6-938a-49ef-86e8-b927f483fd8b",
   "metadata": {},
   "outputs": [
    {
     "name": "stdin",
     "output_type": "stream",
     "text": [
      "Enter size of hash table:  3\n"
     ]
    },
    {
     "name": "stdout",
     "output_type": "stream",
     "text": [
      "\n",
      "1. Insert 2. Search 3. Display 4. Exit\n"
     ]
    },
    {
     "name": "stdin",
     "output_type": "stream",
     "text": [
      "Enter your choice:  1\n",
      "Enter key to insert:  34\n"
     ]
    },
    {
     "name": "stdout",
     "output_type": "stream",
     "text": [
      "\n",
      "1. Insert 2. Search 3. Display 4. Exit\n"
     ]
    },
    {
     "name": "stdin",
     "output_type": "stream",
     "text": [
      "Enter your choice:  1\n",
      "Enter key to insert:  23\n"
     ]
    },
    {
     "name": "stdout",
     "output_type": "stream",
     "text": [
      "\n",
      "1. Insert 2. Search 3. Display 4. Exit\n"
     ]
    },
    {
     "name": "stdin",
     "output_type": "stream",
     "text": [
      "Enter your choice:  1\n",
      "Enter key to insert:  12\n"
     ]
    },
    {
     "name": "stdout",
     "output_type": "stream",
     "text": [
      "\n",
      "1. Insert 2. Search 3. Display 4. Exit\n"
     ]
    },
    {
     "name": "stdin",
     "output_type": "stream",
     "text": [
      "Enter your choice:  3\n"
     ]
    },
    {
     "name": "stdout",
     "output_type": "stream",
     "text": [
      "Hash Table:\n",
      "Index 0: 12\n",
      "Index 1: 34\n",
      "Index 2: 23\n",
      "\n",
      "1. Insert 2. Search 3. Display 4. Exit\n"
     ]
    },
    {
     "name": "stdin",
     "output_type": "stream",
     "text": [
      "Enter your choice:  2\n",
      "Enter key to search:  23\n"
     ]
    },
    {
     "name": "stdout",
     "output_type": "stream",
     "text": [
      "Key 23 found at index 2\n",
      "\n",
      "1. Insert 2. Search 3. Display 4. Exit\n"
     ]
    },
    {
     "name": "stdin",
     "output_type": "stream",
     "text": [
      "Enter your choice:  4\n"
     ]
    }
   ],
   "source": [
    "class HashTable:\n",
    "    def __init__(self, size):\n",
    "        self.size = size\n",
    "        self.table = [None] * size\n",
    "\n",
    "    def hash_function(self, key):\n",
    "        return key % self.size\n",
    "\n",
    "    def insert(self, key):\n",
    "        index = self.hash_function(key)\n",
    "        if self.table[index] is None:\n",
    "            self.table[index] = key\n",
    "        else:\n",
    "            print(f\"Collision occurred for key {key} at index {index}\")\n",
    "\n",
    "    def search(self, key):\n",
    "        index = self.hash_function(key)\n",
    "        if self.table[index] == key:\n",
    "            print(f\"Key {key} found at index {index}\")\n",
    "        else:\n",
    "            print(f\"Key {key} not found\")\n",
    "\n",
    "    def display(self):\n",
    "        print(\"Hash Table:\")\n",
    "        for i, value in enumerate(self.table):\n",
    "            print(f\"Index {i}: {value}\")\n",
    "\n",
    "# Menu-driven program\n",
    "size = int(input(\"Enter size of hash table: \"))\n",
    "hash_table = HashTable(size)\n",
    "\n",
    "while True:\n",
    "    print(\"\\n1. Insert 2. Search 3. Display 4. Exit\")\n",
    "    choice = int(input(\"Enter your choice: \"))\n",
    "    if choice == 1:\n",
    "        key = int(input(\"Enter key to insert: \"))\n",
    "        hash_table.insert(key)\n",
    "    elif choice == 2:\n",
    "        key = int(input(\"Enter key to search: \"))\n",
    "        hash_table.search(key)\n",
    "    elif choice == 3:\n",
    "        hash_table.display()\n",
    "    elif choice == 4:\n",
    "        break\n"
   ]
  },
  {
   "cell_type": "code",
   "execution_count": null,
   "id": "52a63384-67f7-4251-8a07-cb6d84a2e384",
   "metadata": {},
   "outputs": [],
   "source": []
  }
 ],
 "metadata": {
  "kernelspec": {
   "display_name": "Python 3 (ipykernel)",
   "language": "python",
   "name": "python3"
  },
  "language_info": {
   "codemirror_mode": {
    "name": "ipython",
    "version": 3
   },
   "file_extension": ".py",
   "mimetype": "text/x-python",
   "name": "python",
   "nbconvert_exporter": "python",
   "pygments_lexer": "ipython3",
   "version": "3.12.7"
  }
 },
 "nbformat": 4,
 "nbformat_minor": 5
}
